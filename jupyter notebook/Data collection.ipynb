{
 "cells": [
  {
   "cell_type": "markdown",
   "id": "norwegian-migration",
   "metadata": {
    "jupyter": {
     "source_hidden": true
    },
    "tags": []
   },
   "source": [
    "# STOCK MARKET PRICE PREDICTION"
   ]
  },
  {
   "cell_type": "code",
   "execution_count": 1,
   "id": "documentary-effect",
   "metadata": {},
   "outputs": [
    {
     "name": "stdout",
     "output_type": "stream",
     "text": [
      "3.6.13 |Anaconda, Inc.| (default, Mar 16 2021, 11:37:27) [MSC v.1916 64 bit (AMD64)]\n"
     ]
    }
   ],
   "source": [
    "#import System Parameters and function\n",
    "import sys\n",
    "print (sys.version)"
   ]
  },
  {
   "cell_type": "markdown",
   "id": "caring-antenna",
   "metadata": {},
   "source": [
    "## Collection of Data from yahoo Finance - 10 YEARS"
   ]
  },
  {
   "cell_type": "markdown",
   "id": "expensive-milan",
   "metadata": {},
   "source": [
    "### 1. AMAZON STOCK PRICE"
   ]
  },
  {
   "cell_type": "code",
   "execution_count": 2,
   "id": "present-confirmation",
   "metadata": {},
   "outputs": [
    {
     "name": "stdout",
     "output_type": "stream",
     "text": [
      "[*********************100%***********************]  1 of 1 completed\n"
     ]
    },
    {
     "data": {
      "text/html": [
       "<div>\n",
       "<style scoped>\n",
       "    .dataframe tbody tr th:only-of-type {\n",
       "        vertical-align: middle;\n",
       "    }\n",
       "\n",
       "    .dataframe tbody tr th {\n",
       "        vertical-align: top;\n",
       "    }\n",
       "\n",
       "    .dataframe thead th {\n",
       "        text-align: right;\n",
       "    }\n",
       "</style>\n",
       "<table border=\"1\" class=\"dataframe\">\n",
       "  <thead>\n",
       "    <tr style=\"text-align: right;\">\n",
       "      <th></th>\n",
       "      <th>Open</th>\n",
       "      <th>High</th>\n",
       "      <th>Low</th>\n",
       "      <th>Close</th>\n",
       "      <th>Adj Close</th>\n",
       "      <th>Volume</th>\n",
       "    </tr>\n",
       "    <tr>\n",
       "      <th>Date</th>\n",
       "      <th></th>\n",
       "      <th></th>\n",
       "      <th></th>\n",
       "      <th></th>\n",
       "      <th></th>\n",
       "      <th></th>\n",
       "    </tr>\n",
       "  </thead>\n",
       "  <tbody>\n",
       "    <tr>\n",
       "      <th>2011-04-04</th>\n",
       "      <td>180.889999</td>\n",
       "      <td>183.610001</td>\n",
       "      <td>180.690002</td>\n",
       "      <td>182.940002</td>\n",
       "      <td>182.940002</td>\n",
       "      <td>4186400</td>\n",
       "    </tr>\n",
       "    <tr>\n",
       "      <th>2011-04-05</th>\n",
       "      <td>182.100006</td>\n",
       "      <td>186.360001</td>\n",
       "      <td>181.800003</td>\n",
       "      <td>185.289993</td>\n",
       "      <td>185.289993</td>\n",
       "      <td>5569200</td>\n",
       "    </tr>\n",
       "    <tr>\n",
       "      <th>2011-04-06</th>\n",
       "      <td>186.149994</td>\n",
       "      <td>188.270004</td>\n",
       "      <td>181.119995</td>\n",
       "      <td>182.759995</td>\n",
       "      <td>182.759995</td>\n",
       "      <td>5430700</td>\n",
       "    </tr>\n",
       "    <tr>\n",
       "      <th>2011-04-07</th>\n",
       "      <td>182.779999</td>\n",
       "      <td>185.169998</td>\n",
       "      <td>181.759995</td>\n",
       "      <td>184.910004</td>\n",
       "      <td>184.910004</td>\n",
       "      <td>4564000</td>\n",
       "    </tr>\n",
       "    <tr>\n",
       "      <th>2011-04-08</th>\n",
       "      <td>185.259995</td>\n",
       "      <td>186.220001</td>\n",
       "      <td>182.779999</td>\n",
       "      <td>184.710007</td>\n",
       "      <td>184.710007</td>\n",
       "      <td>3726400</td>\n",
       "    </tr>\n",
       "  </tbody>\n",
       "</table>\n",
       "</div>"
      ],
      "text/plain": [
       "                  Open        High         Low       Close   Adj Close  \\\n",
       "Date                                                                     \n",
       "2011-04-04  180.889999  183.610001  180.690002  182.940002  182.940002   \n",
       "2011-04-05  182.100006  186.360001  181.800003  185.289993  185.289993   \n",
       "2011-04-06  186.149994  188.270004  181.119995  182.759995  182.759995   \n",
       "2011-04-07  182.779999  185.169998  181.759995  184.910004  184.910004   \n",
       "2011-04-08  185.259995  186.220001  182.779999  184.710007  184.710007   \n",
       "\n",
       "             Volume  \n",
       "Date                 \n",
       "2011-04-04  4186400  \n",
       "2011-04-05  5569200  \n",
       "2011-04-06  5430700  \n",
       "2011-04-07  4564000  \n",
       "2011-04-08  3726400  "
      ]
     },
     "execution_count": 2,
     "metadata": {},
     "output_type": "execute_result"
    }
   ],
   "source": [
    "#importing of libraries\n",
    "import pandas\n",
    "from pandas_datareader import data as pdr\n",
    "import yfinance as yf \n",
    "#yfinance aimes to solve this problem by offering a reliable, threaded, and Pythonic way to download historical market data from Yahoo! finance.\n",
    "\n",
    "import datetime\n",
    "yf.pdr_override() \n",
    "\n",
    "import warnings\n",
    "warnings.filterwarnings('ignore')\n",
    "\n",
    "stocks = [\"AMZN\"]\n",
    "start = datetime.datetime(2011,4,4)\n",
    "end = datetime.datetime(2021,4,1)\n",
    "\n",
    "AMZN = pdr.get_data_yahoo(stocks, start=start, end=end)\n",
    "\n",
    "\n",
    "AMZN.head(5)"
   ]
  },
  {
   "cell_type": "markdown",
   "id": "second-leader",
   "metadata": {},
   "source": [
    "### 2. APPLE"
   ]
  },
  {
   "cell_type": "code",
   "execution_count": 4,
   "id": "treated-pillow",
   "metadata": {},
   "outputs": [
    {
     "name": "stdout",
     "output_type": "stream",
     "text": [
      "[*********************100%***********************]  1 of 1 completed\n"
     ]
    },
    {
     "data": {
      "text/html": [
       "<div>\n",
       "<style scoped>\n",
       "    .dataframe tbody tr th:only-of-type {\n",
       "        vertical-align: middle;\n",
       "    }\n",
       "\n",
       "    .dataframe tbody tr th {\n",
       "        vertical-align: top;\n",
       "    }\n",
       "\n",
       "    .dataframe thead th {\n",
       "        text-align: right;\n",
       "    }\n",
       "</style>\n",
       "<table border=\"1\" class=\"dataframe\">\n",
       "  <thead>\n",
       "    <tr style=\"text-align: right;\">\n",
       "      <th></th>\n",
       "      <th>Open</th>\n",
       "      <th>High</th>\n",
       "      <th>Low</th>\n",
       "      <th>Close</th>\n",
       "      <th>Adj Close</th>\n",
       "      <th>Volume</th>\n",
       "    </tr>\n",
       "    <tr>\n",
       "      <th>Date</th>\n",
       "      <th></th>\n",
       "      <th></th>\n",
       "      <th></th>\n",
       "      <th></th>\n",
       "      <th></th>\n",
       "      <th></th>\n",
       "    </tr>\n",
       "  </thead>\n",
       "  <tbody>\n",
       "    <tr>\n",
       "      <th>2011-04-04</th>\n",
       "      <td>12.296786</td>\n",
       "      <td>12.307143</td>\n",
       "      <td>12.085714</td>\n",
       "      <td>12.185357</td>\n",
       "      <td>10.496021</td>\n",
       "      <td>460084800</td>\n",
       "    </tr>\n",
       "    <tr>\n",
       "      <th>2011-04-05</th>\n",
       "      <td>12.035357</td>\n",
       "      <td>12.223214</td>\n",
       "      <td>12.000000</td>\n",
       "      <td>12.103214</td>\n",
       "      <td>10.425268</td>\n",
       "      <td>482731200</td>\n",
       "    </tr>\n",
       "    <tr>\n",
       "      <th>2011-04-06</th>\n",
       "      <td>12.186429</td>\n",
       "      <td>12.282143</td>\n",
       "      <td>12.040714</td>\n",
       "      <td>12.072857</td>\n",
       "      <td>10.399117</td>\n",
       "      <td>402539200</td>\n",
       "    </tr>\n",
       "    <tr>\n",
       "      <th>2011-04-07</th>\n",
       "      <td>12.075000</td>\n",
       "      <td>12.158214</td>\n",
       "      <td>12.001071</td>\n",
       "      <td>12.074286</td>\n",
       "      <td>10.400350</td>\n",
       "      <td>373447200</td>\n",
       "    </tr>\n",
       "    <tr>\n",
       "      <th>2011-04-08</th>\n",
       "      <td>12.140000</td>\n",
       "      <td>12.148214</td>\n",
       "      <td>11.926786</td>\n",
       "      <td>11.966429</td>\n",
       "      <td>10.307444</td>\n",
       "      <td>377535200</td>\n",
       "    </tr>\n",
       "  </tbody>\n",
       "</table>\n",
       "</div>"
      ],
      "text/plain": [
       "                 Open       High        Low      Close  Adj Close     Volume\n",
       "Date                                                                        \n",
       "2011-04-04  12.296786  12.307143  12.085714  12.185357  10.496021  460084800\n",
       "2011-04-05  12.035357  12.223214  12.000000  12.103214  10.425268  482731200\n",
       "2011-04-06  12.186429  12.282143  12.040714  12.072857  10.399117  402539200\n",
       "2011-04-07  12.075000  12.158214  12.001071  12.074286  10.400350  373447200\n",
       "2011-04-08  12.140000  12.148214  11.926786  11.966429  10.307444  377535200"
      ]
     },
     "execution_count": 4,
     "metadata": {},
     "output_type": "execute_result"
    }
   ],
   "source": [
    "stocks1 = ['AAPL']\n",
    "APPLE = pdr.get_data_yahoo(stocks1, start=start, end=end)\n",
    "APPLE.head(5)"
   ]
  },
  {
   "cell_type": "markdown",
   "id": "diverse-equation",
   "metadata": {},
   "source": [
    "### 3. GOOGLE"
   ]
  },
  {
   "cell_type": "code",
   "execution_count": 6,
   "id": "chronic-penetration",
   "metadata": {},
   "outputs": [
    {
     "name": "stdout",
     "output_type": "stream",
     "text": [
      "[*********************100%***********************]  1 of 1 completed\n"
     ]
    },
    {
     "data": {
      "text/html": [
       "<div>\n",
       "<style scoped>\n",
       "    .dataframe tbody tr th:only-of-type {\n",
       "        vertical-align: middle;\n",
       "    }\n",
       "\n",
       "    .dataframe tbody tr th {\n",
       "        vertical-align: top;\n",
       "    }\n",
       "\n",
       "    .dataframe thead th {\n",
       "        text-align: right;\n",
       "    }\n",
       "</style>\n",
       "<table border=\"1\" class=\"dataframe\">\n",
       "  <thead>\n",
       "    <tr style=\"text-align: right;\">\n",
       "      <th></th>\n",
       "      <th>Open</th>\n",
       "      <th>High</th>\n",
       "      <th>Low</th>\n",
       "      <th>Close</th>\n",
       "      <th>Adj Close</th>\n",
       "      <th>Volume</th>\n",
       "    </tr>\n",
       "    <tr>\n",
       "      <th>Date</th>\n",
       "      <th></th>\n",
       "      <th></th>\n",
       "      <th></th>\n",
       "      <th></th>\n",
       "      <th></th>\n",
       "      <th></th>\n",
       "    </tr>\n",
       "  </thead>\n",
       "  <tbody>\n",
       "    <tr>\n",
       "      <th>2011-04-04</th>\n",
       "      <td>295.392792</td>\n",
       "      <td>296.259552</td>\n",
       "      <td>290.461273</td>\n",
       "      <td>292.742737</td>\n",
       "      <td>292.742737</td>\n",
       "      <td>4124402</td>\n",
       "    </tr>\n",
       "    <tr>\n",
       "      <th>2011-04-05</th>\n",
       "      <td>289.455048</td>\n",
       "      <td>289.659271</td>\n",
       "      <td>281.783813</td>\n",
       "      <td>283.482452</td>\n",
       "      <td>283.482452</td>\n",
       "      <td>12140335</td>\n",
       "    </tr>\n",
       "    <tr>\n",
       "      <th>2011-04-06</th>\n",
       "      <td>285.021667</td>\n",
       "      <td>286.506104</td>\n",
       "      <td>282.939484</td>\n",
       "      <td>286.017944</td>\n",
       "      <td>286.017944</td>\n",
       "      <td>5356603</td>\n",
       "    </tr>\n",
       "    <tr>\n",
       "      <th>2011-04-07</th>\n",
       "      <td>286.790039</td>\n",
       "      <td>289.235870</td>\n",
       "      <td>286.022919</td>\n",
       "      <td>288.917053</td>\n",
       "      <td>288.917053</td>\n",
       "      <td>5081977</td>\n",
       "    </tr>\n",
       "    <tr>\n",
       "      <th>2011-04-08</th>\n",
       "      <td>291.352936</td>\n",
       "      <td>291.352936</td>\n",
       "      <td>287.950684</td>\n",
       "      <td>288.000488</td>\n",
       "      <td>288.000488</td>\n",
       "      <td>3817857</td>\n",
       "    </tr>\n",
       "  </tbody>\n",
       "</table>\n",
       "</div>"
      ],
      "text/plain": [
       "                  Open        High         Low       Close   Adj Close  \\\n",
       "Date                                                                     \n",
       "2011-04-04  295.392792  296.259552  290.461273  292.742737  292.742737   \n",
       "2011-04-05  289.455048  289.659271  281.783813  283.482452  283.482452   \n",
       "2011-04-06  285.021667  286.506104  282.939484  286.017944  286.017944   \n",
       "2011-04-07  286.790039  289.235870  286.022919  288.917053  288.917053   \n",
       "2011-04-08  291.352936  291.352936  287.950684  288.000488  288.000488   \n",
       "\n",
       "              Volume  \n",
       "Date                  \n",
       "2011-04-04   4124402  \n",
       "2011-04-05  12140335  \n",
       "2011-04-06   5356603  \n",
       "2011-04-07   5081977  \n",
       "2011-04-08   3817857  "
      ]
     },
     "execution_count": 6,
     "metadata": {},
     "output_type": "execute_result"
    }
   ],
   "source": [
    "stocks2 = ['GOOG']\n",
    "GOOGLE = pdr.get_data_yahoo(stocks2, start=start, end=end)\n",
    "GOOGLE.head(5)"
   ]
  },
  {
   "cell_type": "code",
   "execution_count": null,
   "id": "uniform-translator",
   "metadata": {},
   "outputs": [],
   "source": []
  }
 ],
 "metadata": {
  "kernelspec": {
   "display_name": "Python 3",
   "language": "python",
   "name": "python3"
  },
  "language_info": {
   "codemirror_mode": {
    "name": "ipython",
    "version": 3
   },
   "file_extension": ".py",
   "mimetype": "text/x-python",
   "name": "python",
   "nbconvert_exporter": "python",
   "pygments_lexer": "ipython3",
   "version": "3.6.13"
  }
 },
 "nbformat": 4,
 "nbformat_minor": 5
}
