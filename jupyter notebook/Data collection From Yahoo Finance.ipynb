{
 "cells": [
  {
   "cell_type": "markdown",
   "metadata": {},
   "source": [
    "## STOCK MARKET PRICE PREDICTION"
   ]
  },
  {
   "cell_type": "code",
   "execution_count": 1,
   "metadata": {},
   "outputs": [
    {
     "name": "stdout",
     "output_type": "stream",
     "text": [
      "3.8.5 (default, Sep  3 2020, 21:29:08) [MSC v.1916 64 bit (AMD64)]\n"
     ]
    }
   ],
   "source": [
    "#import System Parameters and function\n",
    "import sys\n",
    "print (sys.version)"
   ]
  },
  {
   "cell_type": "markdown",
   "metadata": {},
   "source": [
    "## Collection of Data from yahoo Finance - 10 YEARS"
   ]
  },
  {
   "cell_type": "markdown",
   "metadata": {},
   "source": [
    "### 1.AMAZON"
   ]
  },
  {
   "cell_type": "code",
   "execution_count": 10,
   "metadata": {
    "scrolled": true
   },
   "outputs": [
    {
     "name": "stdout",
     "output_type": "stream",
     "text": [
      "[*********************100%***********************]  1 of 1 completed\n"
     ]
    },
    {
     "data": {
      "text/html": [
       "<div>\n",
       "<style scoped>\n",
       "    .dataframe tbody tr th:only-of-type {\n",
       "        vertical-align: middle;\n",
       "    }\n",
       "\n",
       "    .dataframe tbody tr th {\n",
       "        vertical-align: top;\n",
       "    }\n",
       "\n",
       "    .dataframe thead th {\n",
       "        text-align: right;\n",
       "    }\n",
       "</style>\n",
       "<table border=\"1\" class=\"dataframe\">\n",
       "  <thead>\n",
       "    <tr style=\"text-align: right;\">\n",
       "      <th></th>\n",
       "      <th>Open</th>\n",
       "      <th>High</th>\n",
       "      <th>Low</th>\n",
       "      <th>Close</th>\n",
       "      <th>Adj Close</th>\n",
       "      <th>Volume</th>\n",
       "    </tr>\n",
       "    <tr>\n",
       "      <th>Date</th>\n",
       "      <th></th>\n",
       "      <th></th>\n",
       "      <th></th>\n",
       "      <th></th>\n",
       "      <th></th>\n",
       "      <th></th>\n",
       "    </tr>\n",
       "  </thead>\n",
       "  <tbody>\n",
       "    <tr>\n",
       "      <th>2011-04-01</th>\n",
       "      <td>181.580002</td>\n",
       "      <td>183.250000</td>\n",
       "      <td>178.589996</td>\n",
       "      <td>180.130005</td>\n",
       "      <td>180.130005</td>\n",
       "      <td>5684100</td>\n",
       "    </tr>\n",
       "    <tr>\n",
       "      <th>2011-04-04</th>\n",
       "      <td>180.889999</td>\n",
       "      <td>183.610001</td>\n",
       "      <td>180.690002</td>\n",
       "      <td>182.940002</td>\n",
       "      <td>182.940002</td>\n",
       "      <td>4186400</td>\n",
       "    </tr>\n",
       "    <tr>\n",
       "      <th>2011-04-05</th>\n",
       "      <td>182.100006</td>\n",
       "      <td>186.360001</td>\n",
       "      <td>181.800003</td>\n",
       "      <td>185.289993</td>\n",
       "      <td>185.289993</td>\n",
       "      <td>5569200</td>\n",
       "    </tr>\n",
       "    <tr>\n",
       "      <th>2011-04-06</th>\n",
       "      <td>186.149994</td>\n",
       "      <td>188.270004</td>\n",
       "      <td>181.119995</td>\n",
       "      <td>182.759995</td>\n",
       "      <td>182.759995</td>\n",
       "      <td>5430700</td>\n",
       "    </tr>\n",
       "    <tr>\n",
       "      <th>2011-04-07</th>\n",
       "      <td>182.779999</td>\n",
       "      <td>185.169998</td>\n",
       "      <td>181.759995</td>\n",
       "      <td>184.910004</td>\n",
       "      <td>184.910004</td>\n",
       "      <td>4564000</td>\n",
       "    </tr>\n",
       "  </tbody>\n",
       "</table>\n",
       "</div>"
      ],
      "text/plain": [
       "                  Open        High         Low       Close   Adj Close  \\\n",
       "Date                                                                     \n",
       "2011-04-01  181.580002  183.250000  178.589996  180.130005  180.130005   \n",
       "2011-04-04  180.889999  183.610001  180.690002  182.940002  182.940002   \n",
       "2011-04-05  182.100006  186.360001  181.800003  185.289993  185.289993   \n",
       "2011-04-06  186.149994  188.270004  181.119995  182.759995  182.759995   \n",
       "2011-04-07  182.779999  185.169998  181.759995  184.910004  184.910004   \n",
       "\n",
       "             Volume  \n",
       "Date                 \n",
       "2011-04-01  5684100  \n",
       "2011-04-04  4186400  \n",
       "2011-04-05  5569200  \n",
       "2011-04-06  5430700  \n",
       "2011-04-07  4564000  "
      ]
     },
     "execution_count": 10,
     "metadata": {},
     "output_type": "execute_result"
    }
   ],
   "source": [
    "#importing of libraries\n",
    "import pandas\n",
    "from pandas_datareader import data as pdr\n",
    "import yfinance as yf \n",
    "\n",
    "import datetime\n",
    "yf.pdr_override() \n",
    "\n",
    "import warnings\n",
    "warnings.filterwarnings('ignore')\n",
    "\n",
    "stocks = [\"AMZN\"]\n",
    "start = datetime.datetime(2011,4,2)\n",
    "end = datetime.datetime(2021,4,1)\n",
    "\n",
    "data = pdr.get_data_yahoo(stocks, start=start, end=end)\n",
    "\n",
    "#file saved in the directory\n",
    "data.to_csv('C://Users//HP//Desktop//Stock market prediction//AMAZON.csv') \n",
    "\n",
    "data.head(5)"
   ]
  },
  {
   "cell_type": "markdown",
   "metadata": {},
   "source": [
    "## 2.APPLE"
   ]
  },
  {
   "cell_type": "code",
   "execution_count": 11,
   "metadata": {},
   "outputs": [
    {
     "name": "stdout",
     "output_type": "stream",
     "text": [
      "[*********************100%***********************]  1 of 1 completed\n"
     ]
    },
    {
     "data": {
      "text/html": [
       "<div>\n",
       "<style scoped>\n",
       "    .dataframe tbody tr th:only-of-type {\n",
       "        vertical-align: middle;\n",
       "    }\n",
       "\n",
       "    .dataframe tbody tr th {\n",
       "        vertical-align: top;\n",
       "    }\n",
       "\n",
       "    .dataframe thead th {\n",
       "        text-align: right;\n",
       "    }\n",
       "</style>\n",
       "<table border=\"1\" class=\"dataframe\">\n",
       "  <thead>\n",
       "    <tr style=\"text-align: right;\">\n",
       "      <th></th>\n",
       "      <th>Open</th>\n",
       "      <th>High</th>\n",
       "      <th>Low</th>\n",
       "      <th>Close</th>\n",
       "      <th>Adj Close</th>\n",
       "      <th>Volume</th>\n",
       "    </tr>\n",
       "    <tr>\n",
       "      <th>Date</th>\n",
       "      <th></th>\n",
       "      <th></th>\n",
       "      <th></th>\n",
       "      <th></th>\n",
       "      <th></th>\n",
       "      <th></th>\n",
       "    </tr>\n",
       "  </thead>\n",
       "  <tbody>\n",
       "    <tr>\n",
       "      <th>2011-04-01</th>\n",
       "      <td>12.539643</td>\n",
       "      <td>12.556786</td>\n",
       "      <td>12.260714</td>\n",
       "      <td>12.305714</td>\n",
       "      <td>10.599690</td>\n",
       "      <td>418661600</td>\n",
       "    </tr>\n",
       "    <tr>\n",
       "      <th>2011-04-04</th>\n",
       "      <td>12.296786</td>\n",
       "      <td>12.307143</td>\n",
       "      <td>12.085714</td>\n",
       "      <td>12.185357</td>\n",
       "      <td>10.496021</td>\n",
       "      <td>460084800</td>\n",
       "    </tr>\n",
       "    <tr>\n",
       "      <th>2011-04-05</th>\n",
       "      <td>12.035357</td>\n",
       "      <td>12.223214</td>\n",
       "      <td>12.000000</td>\n",
       "      <td>12.103214</td>\n",
       "      <td>10.425268</td>\n",
       "      <td>482731200</td>\n",
       "    </tr>\n",
       "    <tr>\n",
       "      <th>2011-04-06</th>\n",
       "      <td>12.186429</td>\n",
       "      <td>12.282143</td>\n",
       "      <td>12.040714</td>\n",
       "      <td>12.072857</td>\n",
       "      <td>10.399117</td>\n",
       "      <td>402539200</td>\n",
       "    </tr>\n",
       "    <tr>\n",
       "      <th>2011-04-07</th>\n",
       "      <td>12.075000</td>\n",
       "      <td>12.158214</td>\n",
       "      <td>12.001071</td>\n",
       "      <td>12.074286</td>\n",
       "      <td>10.400350</td>\n",
       "      <td>373447200</td>\n",
       "    </tr>\n",
       "  </tbody>\n",
       "</table>\n",
       "</div>"
      ],
      "text/plain": [
       "                 Open       High        Low      Close  Adj Close     Volume\n",
       "Date                                                                        \n",
       "2011-04-01  12.539643  12.556786  12.260714  12.305714  10.599690  418661600\n",
       "2011-04-04  12.296786  12.307143  12.085714  12.185357  10.496021  460084800\n",
       "2011-04-05  12.035357  12.223214  12.000000  12.103214  10.425268  482731200\n",
       "2011-04-06  12.186429  12.282143  12.040714  12.072857  10.399117  402539200\n",
       "2011-04-07  12.075000  12.158214  12.001071  12.074286  10.400350  373447200"
      ]
     },
     "execution_count": 11,
     "metadata": {},
     "output_type": "execute_result"
    }
   ],
   "source": [
    "#importing of libraries\n",
    "import pandas\n",
    "from pandas_datareader import data as pdr\n",
    "from pandas.util.testing import assert_frame_equal\n",
    "import yfinance as yf\n",
    "import datetime\n",
    "yf.pdr_override() \n",
    "\n",
    "stocks = [\"AAPL\"]\n",
    "start = datetime.datetime(2011,4,2)\n",
    "end = datetime.datetime(2021,4,1)\n",
    "\n",
    "data = pdr.get_data_yahoo(stocks, start=start, end=end)\n",
    "\n",
    "#file saved in the directory\n",
    "data.to_csv('C://Users//HP//Desktop//Stock market prediction//APPLE.csv') \n",
    "\n",
    "data.head(5)"
   ]
  },
  {
   "cell_type": "markdown",
   "metadata": {},
   "source": [
    "## 3.GOOGLE"
   ]
  },
  {
   "cell_type": "code",
   "execution_count": 12,
   "metadata": {
    "scrolled": true
   },
   "outputs": [
    {
     "name": "stdout",
     "output_type": "stream",
     "text": [
      "[*********************100%***********************]  1 of 1 completed\n"
     ]
    },
    {
     "data": {
      "text/html": [
       "<div>\n",
       "<style scoped>\n",
       "    .dataframe tbody tr th:only-of-type {\n",
       "        vertical-align: middle;\n",
       "    }\n",
       "\n",
       "    .dataframe tbody tr th {\n",
       "        vertical-align: top;\n",
       "    }\n",
       "\n",
       "    .dataframe thead th {\n",
       "        text-align: right;\n",
       "    }\n",
       "</style>\n",
       "<table border=\"1\" class=\"dataframe\">\n",
       "  <thead>\n",
       "    <tr style=\"text-align: right;\">\n",
       "      <th></th>\n",
       "      <th>Open</th>\n",
       "      <th>High</th>\n",
       "      <th>Low</th>\n",
       "      <th>Close</th>\n",
       "      <th>Adj Close</th>\n",
       "      <th>Volume</th>\n",
       "    </tr>\n",
       "    <tr>\n",
       "      <th>Date</th>\n",
       "      <th></th>\n",
       "      <th></th>\n",
       "      <th></th>\n",
       "      <th></th>\n",
       "      <th></th>\n",
       "      <th></th>\n",
       "    </tr>\n",
       "  </thead>\n",
       "  <tbody>\n",
       "    <tr>\n",
       "      <th>2011-04-01</th>\n",
       "      <td>293.280701</td>\n",
       "      <td>296.483704</td>\n",
       "      <td>293.280701</td>\n",
       "      <td>294.795044</td>\n",
       "      <td>294.795044</td>\n",
       "      <td>5245990</td>\n",
       "    </tr>\n",
       "    <tr>\n",
       "      <th>2011-04-04</th>\n",
       "      <td>295.392792</td>\n",
       "      <td>296.259552</td>\n",
       "      <td>290.461273</td>\n",
       "      <td>292.742737</td>\n",
       "      <td>292.742737</td>\n",
       "      <td>4124402</td>\n",
       "    </tr>\n",
       "    <tr>\n",
       "      <th>2011-04-05</th>\n",
       "      <td>289.455048</td>\n",
       "      <td>289.659271</td>\n",
       "      <td>281.783813</td>\n",
       "      <td>283.482452</td>\n",
       "      <td>283.482452</td>\n",
       "      <td>12140335</td>\n",
       "    </tr>\n",
       "    <tr>\n",
       "      <th>2011-04-06</th>\n",
       "      <td>285.021667</td>\n",
       "      <td>286.506104</td>\n",
       "      <td>282.939484</td>\n",
       "      <td>286.017944</td>\n",
       "      <td>286.017944</td>\n",
       "      <td>5356603</td>\n",
       "    </tr>\n",
       "    <tr>\n",
       "      <th>2011-04-07</th>\n",
       "      <td>286.790039</td>\n",
       "      <td>289.235870</td>\n",
       "      <td>286.022919</td>\n",
       "      <td>288.917053</td>\n",
       "      <td>288.917053</td>\n",
       "      <td>5081977</td>\n",
       "    </tr>\n",
       "  </tbody>\n",
       "</table>\n",
       "</div>"
      ],
      "text/plain": [
       "                  Open        High         Low       Close   Adj Close  \\\n",
       "Date                                                                     \n",
       "2011-04-01  293.280701  296.483704  293.280701  294.795044  294.795044   \n",
       "2011-04-04  295.392792  296.259552  290.461273  292.742737  292.742737   \n",
       "2011-04-05  289.455048  289.659271  281.783813  283.482452  283.482452   \n",
       "2011-04-06  285.021667  286.506104  282.939484  286.017944  286.017944   \n",
       "2011-04-07  286.790039  289.235870  286.022919  288.917053  288.917053   \n",
       "\n",
       "              Volume  \n",
       "Date                  \n",
       "2011-04-01   5245990  \n",
       "2011-04-04   4124402  \n",
       "2011-04-05  12140335  \n",
       "2011-04-06   5356603  \n",
       "2011-04-07   5081977  "
      ]
     },
     "execution_count": 12,
     "metadata": {},
     "output_type": "execute_result"
    }
   ],
   "source": [
    "#importing of libraries\n",
    "import pandas\n",
    "from pandas_datareader import data as pdr\n",
    "from pandas.util.testing import assert_frame_equal\n",
    "import yfinance as yf\n",
    "import datetime\n",
    "yf.pdr_override() \n",
    "\n",
    "stocks = [\"GOOG\"]\n",
    "start = datetime.datetime(2011,4,2)\n",
    "end = datetime.datetime(2021,4,1)\n",
    "\n",
    "data = pdr.get_data_yahoo(stocks, start=start, end=end)\n",
    "\n",
    "#file saved in the directory\n",
    "data.to_csv('C://Users//HP//Desktop//Stock market prediction//GOOGLE.csv') \n",
    "\n",
    "data.head(5)"
   ]
  },
  {
   "cell_type": "code",
   "execution_count": null,
   "metadata": {},
   "outputs": [],
   "source": []
  }
 ],
 "metadata": {
  "hide_input": false,
  "kernelspec": {
   "display_name": "Python 3",
   "language": "python",
   "name": "python3"
  },
  "language_info": {
   "codemirror_mode": {
    "name": "ipython",
    "version": 3
   },
   "file_extension": ".py",
   "mimetype": "text/x-python",
   "name": "python",
   "nbconvert_exporter": "python",
   "pygments_lexer": "ipython3",
   "version": "3.8.5"
  }
 },
 "nbformat": 4,
 "nbformat_minor": 4
}
